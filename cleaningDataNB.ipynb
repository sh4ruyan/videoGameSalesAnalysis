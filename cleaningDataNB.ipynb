{
 "cells": [
  {
   "cell_type": "markdown",
   "id": "19563b62",
   "metadata": {},
   "source": [
    "# Video Game Sales (2000-2016)"
   ]
  },
  {
   "cell_type": "markdown",
   "id": "a6351868",
   "metadata": {},
   "source": [
    "## Tech Stack\n",
    "Data Analysis: Pandas, Numpy <br>\n",
    "Data Visualization: Matplotlib, Seaborn"
   ]
  },
  {
   "cell_type": "markdown",
   "id": "463e9dce",
   "metadata": {},
   "source": [
    "#### 0. Imports"
   ]
  },
  {
   "cell_type": "code",
   "execution_count": 35,
   "id": "c999507b",
   "metadata": {},
   "outputs": [],
   "source": [
    "import pandas as pd\n",
    "import numpy as np\n",
    "import matplotlib.pyplot as plt\n",
    "import seaborn as sb"
   ]
  },
  {
   "cell_type": "markdown",
   "id": "8443b3f9",
   "metadata": {},
   "source": [
    "#### 1. Pulling Data"
   ]
  },
  {
   "cell_type": "code",
   "execution_count": 36,
   "id": "cf2f8fa4",
   "metadata": {},
   "outputs": [],
   "source": [
    "rawsalesDF = pd.read_csv(\"https://raw.githubusercontent.com/sh4ruyan/videoGameSalesAnalysis/refs/heads/main/Video_Games_Sales_as_at_22_Dec_2016.csv\")"
   ]
  },
  {
   "cell_type": "markdown",
   "id": "ce18cc2c",
   "metadata": {},
   "source": [
    "#### 2. Cleaning Data"
   ]
  },
  {
   "cell_type": "code",
   "execution_count": 75,
   "id": "7c29bfde",
   "metadata": {},
   "outputs": [
    {
     "data": {
      "text/html": [
       "<div>\n",
       "<style scoped>\n",
       "    .dataframe tbody tr th:only-of-type {\n",
       "        vertical-align: middle;\n",
       "    }\n",
       "\n",
       "    .dataframe tbody tr th {\n",
       "        vertical-align: top;\n",
       "    }\n",
       "\n",
       "    .dataframe thead th {\n",
       "        text-align: right;\n",
       "    }\n",
       "</style>\n",
       "<table border=\"1\" class=\"dataframe\">\n",
       "  <thead>\n",
       "    <tr style=\"text-align: right;\">\n",
       "      <th></th>\n",
       "      <th>Name</th>\n",
       "      <th>Platform</th>\n",
       "      <th>Year_of_Release</th>\n",
       "      <th>Genre</th>\n",
       "      <th>Publisher</th>\n",
       "      <th>NA_Sales</th>\n",
       "      <th>EU_Sales</th>\n",
       "      <th>JP_Sales</th>\n",
       "      <th>Other_Sales</th>\n",
       "      <th>Global_Sales</th>\n",
       "      <th>Critic_Score</th>\n",
       "      <th>Critic_Count</th>\n",
       "      <th>User_Score</th>\n",
       "      <th>User_Count</th>\n",
       "      <th>Developer</th>\n",
       "      <th>Rating</th>\n",
       "    </tr>\n",
       "  </thead>\n",
       "  <tbody>\n",
       "    <tr>\n",
       "      <th>0</th>\n",
       "      <td>Wii Sports</td>\n",
       "      <td>Wii</td>\n",
       "      <td>2006.0</td>\n",
       "      <td>Sports</td>\n",
       "      <td>Nintendo</td>\n",
       "      <td>41.36</td>\n",
       "      <td>28.96</td>\n",
       "      <td>3.77</td>\n",
       "      <td>8.45</td>\n",
       "      <td>82.53</td>\n",
       "      <td>76.0</td>\n",
       "      <td>51.0</td>\n",
       "      <td>8</td>\n",
       "      <td>322.0</td>\n",
       "      <td>Nintendo</td>\n",
       "      <td>E</td>\n",
       "    </tr>\n",
       "    <tr>\n",
       "      <th>1</th>\n",
       "      <td>Super Mario Bros.</td>\n",
       "      <td>NES</td>\n",
       "      <td>1985.0</td>\n",
       "      <td>Platform</td>\n",
       "      <td>Nintendo</td>\n",
       "      <td>29.08</td>\n",
       "      <td>3.58</td>\n",
       "      <td>6.81</td>\n",
       "      <td>0.77</td>\n",
       "      <td>40.24</td>\n",
       "      <td>NaN</td>\n",
       "      <td>NaN</td>\n",
       "      <td>NaN</td>\n",
       "      <td>NaN</td>\n",
       "      <td>NaN</td>\n",
       "      <td>NaN</td>\n",
       "    </tr>\n",
       "    <tr>\n",
       "      <th>2</th>\n",
       "      <td>Mario Kart Wii</td>\n",
       "      <td>Wii</td>\n",
       "      <td>2008.0</td>\n",
       "      <td>Racing</td>\n",
       "      <td>Nintendo</td>\n",
       "      <td>15.68</td>\n",
       "      <td>12.76</td>\n",
       "      <td>3.79</td>\n",
       "      <td>3.29</td>\n",
       "      <td>35.52</td>\n",
       "      <td>82.0</td>\n",
       "      <td>73.0</td>\n",
       "      <td>8.3</td>\n",
       "      <td>709.0</td>\n",
       "      <td>Nintendo</td>\n",
       "      <td>E</td>\n",
       "    </tr>\n",
       "    <tr>\n",
       "      <th>3</th>\n",
       "      <td>Wii Sports Resort</td>\n",
       "      <td>Wii</td>\n",
       "      <td>2009.0</td>\n",
       "      <td>Sports</td>\n",
       "      <td>Nintendo</td>\n",
       "      <td>15.61</td>\n",
       "      <td>10.93</td>\n",
       "      <td>3.28</td>\n",
       "      <td>2.95</td>\n",
       "      <td>32.77</td>\n",
       "      <td>80.0</td>\n",
       "      <td>73.0</td>\n",
       "      <td>8</td>\n",
       "      <td>192.0</td>\n",
       "      <td>Nintendo</td>\n",
       "      <td>E</td>\n",
       "    </tr>\n",
       "    <tr>\n",
       "      <th>4</th>\n",
       "      <td>Pokemon Red/Pokemon Blue</td>\n",
       "      <td>GB</td>\n",
       "      <td>1996.0</td>\n",
       "      <td>Role-Playing</td>\n",
       "      <td>Nintendo</td>\n",
       "      <td>11.27</td>\n",
       "      <td>8.89</td>\n",
       "      <td>10.22</td>\n",
       "      <td>1.00</td>\n",
       "      <td>31.37</td>\n",
       "      <td>NaN</td>\n",
       "      <td>NaN</td>\n",
       "      <td>NaN</td>\n",
       "      <td>NaN</td>\n",
       "      <td>NaN</td>\n",
       "      <td>NaN</td>\n",
       "    </tr>\n",
       "  </tbody>\n",
       "</table>\n",
       "</div>"
      ],
      "text/plain": [
       "                       Name Platform  Year_of_Release         Genre Publisher  \\\n",
       "0                Wii Sports      Wii           2006.0        Sports  Nintendo   \n",
       "1         Super Mario Bros.      NES           1985.0      Platform  Nintendo   \n",
       "2            Mario Kart Wii      Wii           2008.0        Racing  Nintendo   \n",
       "3         Wii Sports Resort      Wii           2009.0        Sports  Nintendo   \n",
       "4  Pokemon Red/Pokemon Blue       GB           1996.0  Role-Playing  Nintendo   \n",
       "\n",
       "   NA_Sales  EU_Sales  JP_Sales  Other_Sales  Global_Sales  Critic_Score  \\\n",
       "0     41.36     28.96      3.77         8.45         82.53          76.0   \n",
       "1     29.08      3.58      6.81         0.77         40.24           NaN   \n",
       "2     15.68     12.76      3.79         3.29         35.52          82.0   \n",
       "3     15.61     10.93      3.28         2.95         32.77          80.0   \n",
       "4     11.27      8.89     10.22         1.00         31.37           NaN   \n",
       "\n",
       "   Critic_Count User_Score  User_Count Developer Rating  \n",
       "0          51.0          8       322.0  Nintendo      E  \n",
       "1           NaN        NaN         NaN       NaN    NaN  \n",
       "2          73.0        8.3       709.0  Nintendo      E  \n",
       "3          73.0          8       192.0  Nintendo      E  \n",
       "4           NaN        NaN         NaN       NaN    NaN  "
      ]
     },
     "execution_count": 75,
     "metadata": {},
     "output_type": "execute_result"
    }
   ],
   "source": [
    "rawsalesDF.head()"
   ]
  },
  {
   "cell_type": "markdown",
   "id": "ec7f066d",
   "metadata": {},
   "source": [
    "Steps to take:<br>\n",
    "2.1 Drop duplicates.<br>\n",
    "2.2 Replace null values with column mean (if appropriate), or drop the row. <br>\n",
    "2.2 Check datatypes, i.e. make sure the values in a column all have the same datatype and that the datatype is appropriate.<br>\n",
    "2.3 Implement stylistic changes to better manage the <br>"
   ]
  },
  {
   "cell_type": "markdown",
   "id": "8c79f061",
   "metadata": {},
   "source": [
    "2.1 Dropping duplicated."
   ]
  },
  {
   "cell_type": "code",
   "execution_count": null,
   "id": "6f1f8d94",
   "metadata": {},
   "outputs": [],
   "source": [
    "\n",
    "salesDF = rawsalesDF.drop_duplicates(subset=None, keep=\"first\", ignore_index=False)"
   ]
  },
  {
   "cell_type": "markdown",
   "id": "0708cc7e",
   "metadata": {},
   "source": [
    "2.2 Replacing null values or dropping them."
   ]
  },
  {
   "cell_type": "code",
   "execution_count": null,
   "id": "217321c2",
   "metadata": {},
   "outputs": [],
   "source": [
    "#Idea: If the missing value is in a categorical column, drop the row. \n",
    "#If it is in a numeric column, replace that value with the mean of that column.\n",
    "#To save time, check the categorical columns first.\n",
    "\n",
    "cat_columns = [\"Name\", \"Platform\", \"Genre\", \"Publisher\", \"Developer\", \"Rating\"]\n",
    "\n",
    "for col in cat_columns:\n",
    "    if "
   ]
  },
  {
   "cell_type": "code",
   "execution_count": 70,
   "id": "22aeea9b",
   "metadata": {},
   "outputs": [
    {
     "name": "stdout",
     "output_type": "stream",
     "text": [
      "<class 'pandas.core.frame.DataFrame'>\n",
      "Index: 6825 entries, 0 to 16706\n",
      "Data columns (total 16 columns):\n",
      " #   Column           Non-Null Count  Dtype  \n",
      "---  ------           --------------  -----  \n",
      " 0   Name             6825 non-null   object \n",
      " 1   Platform         6825 non-null   object \n",
      " 2   Year_of_Release  6825 non-null   float64\n",
      " 3   Genre            6825 non-null   object \n",
      " 4   Publisher        6825 non-null   object \n",
      " 5   NA_Sales         6825 non-null   float64\n",
      " 6   EU_Sales         6825 non-null   float64\n",
      " 7   JP_Sales         6825 non-null   float64\n",
      " 8   Other_Sales      6825 non-null   float64\n",
      " 9   Global_Sales     6825 non-null   float64\n",
      " 10  Critic_Score     6825 non-null   float64\n",
      " 11  Critic_Count     6825 non-null   float64\n",
      " 12  User_Score       6825 non-null   object \n",
      " 13  User_Count       6825 non-null   float64\n",
      " 14  Developer        6825 non-null   object \n",
      " 15  Rating           6825 non-null   object \n",
      "dtypes: float64(9), object(7)\n",
      "memory usage: 906.4+ KB\n"
     ]
    }
   ],
   "source": [
    "#Make sure values in the same column are the same data type\n",
    "\n",
    "salesDF.info()"
   ]
  },
  {
   "cell_type": "code",
   "execution_count": 71,
   "id": "f04b036e",
   "metadata": {},
   "outputs": [],
   "source": [
    "#Notice how certain columns have \"object\" has a datatype. These are possibly columns with mixed datatypes. Let us check.  "
   ]
  },
  {
   "cell_type": "code",
   "execution_count": null,
   "id": "c903574f",
   "metadata": {},
   "outputs": [
    {
     "name": "stdout",
     "output_type": "stream",
     "text": [
      "['Name', 'Platform', 'Genre', 'Publisher', 'User_Score', 'Developer', 'Rating']\n"
     ]
    }
   ],
   "source": [
    "object_dtype_list = []\n",
    "\n",
    "for col in salesDF.columns.to_list():\n",
    "    \n",
    "    if salesDF[col].dtype==object:\n",
    "        object_dtype_list.append(col)\n",
    "\n",
    "print(object_dtype_list) #a list of columns with the \"object\" datatype        \n",
    "\n"
   ]
  },
  {
   "cell_type": "code",
   "execution_count": 73,
   "id": "84bb4454",
   "metadata": {},
   "outputs": [
    {
     "name": "stdout",
     "output_type": "stream",
     "text": [
      "[]\n"
     ]
    }
   ],
   "source": [
    "mixed_dtype_list = []\n",
    "\n",
    "for col in object_dtype_list:\n",
    "    dtypes = salesDF[col].apply((lambda x: type(x))).value_counts()\n",
    "    \n",
    "    if len(dtypes)>1:\n",
    "        mixed_dtype_list.append(col)\n",
    "        \n",
    "\n",
    "print(mixed_dtype_list)\n"
   ]
  },
  {
   "cell_type": "code",
   "execution_count": null,
   "id": "2bc3bfcb",
   "metadata": {},
   "outputs": [],
   "source": [
    "#No columns have a mixed data type. "
   ]
  },
  {
   "cell_type": "markdown",
   "id": "6e59be3a",
   "metadata": {},
   "source": [
    "2.3 Stripping trailing whitespaces and converting string values to lowercase. "
   ]
  },
  {
   "cell_type": "code",
   "execution_count": 74,
   "id": "a84879b6",
   "metadata": {},
   "outputs": [],
   "source": [
    "for col in salesDF.columns.to_list():\n",
    "    for value in col: \n",
    "        value = value.strip()\n",
    "        if type(value) == str:\n",
    "            value = value.upper() \n",
    "\n",
    "\n"
   ]
  },
  {
   "cell_type": "code",
   "execution_count": null,
   "id": "b4231973",
   "metadata": {},
   "outputs": [],
   "source": []
  }
 ],
 "metadata": {
  "kernelspec": {
   "display_name": "Python 3",
   "language": "python",
   "name": "python3"
  },
  "language_info": {
   "codemirror_mode": {
    "name": "ipython",
    "version": 3
   },
   "file_extension": ".py",
   "mimetype": "text/x-python",
   "name": "python",
   "nbconvert_exporter": "python",
   "pygments_lexer": "ipython3",
   "version": "3.11.2"
  }
 },
 "nbformat": 4,
 "nbformat_minor": 5
}
